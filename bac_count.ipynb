{
 "cells": [
  {
   "cell_type": "code",
   "execution_count": null,
   "metadata": {},
   "outputs": [],
   "source": [
    "import torch\n",
    "print(torch.cuda.is_available())\n",
    "print(torch.cuda.get_device_name(0))\n",
    "!yolo checks"
   ]
  },
  {
   "cell_type": "code",
   "execution_count": null,
   "metadata": {},
   "outputs": [],
   "source": [
    "import os \n",
    "from ultralytics import YOLO\n",
    "from IPython import display\n",
    "display.clear_output()"
   ]
  },
  {
   "cell_type": "markdown",
   "metadata": {},
   "source": [
    "**TRAINING**"
   ]
  },
  {
   "cell_type": "code",
   "execution_count": null,
   "metadata": {},
   "outputs": [],
   "source": [
    "# # COMMENTED BECAUSE TRAINING STARTED\n",
    "\n",
    "# model = YOLO(\"yolov8n.yaml\")  # build a new model from YAML. if \"pt\" the model is pre-trained\n",
    "\n",
    "# # Train the model\n",
    "# results = model.train(data=\"validation_testing_etc/Train_Test_Split/dataset_train-test/data.yaml\", \n",
    "#                       epochs=50, imgsz=608,patience=10, plots=True, batch=8, cache='ram', amp=False, cos_lr=True, lr0=0.001, lrf=0.001,                # MODEL PARAM\n",
    "#                       hsv_s=0.90, hsv_h=0.30, hsv_v=0.60, shear=2.0, flipud=0.25, fliplr=0.25, bgr=0.25, mixup=0.25, degrees=90.0, copy_paste=0.15,    # AUGMENTATION\n",
    "#                       dropout=0.15,\n",
    "#                       single_cls= True, device='0', project='runs/detect/', name=\"608px-50_epoch-yolon-augment\")                                       # LOCATION"
   ]
  },
  {
   "cell_type": "code",
   "execution_count": null,
   "metadata": {},
   "outputs": [],
   "source": [
    "# 2nd Training\n",
    "# COMMENTED BECAUSE TRAINING STARTED\n",
    "\n",
    "model = YOLO(\"yolov8s.yaml\")  # build a new model from YAML. if \"pt\" the model is pre-trained\n",
    "\n",
    "# Train the model\n",
    "results = model.train(data=\"validation_testing_etc/Train_Test_Split/dataset_train-test/data.yaml\", \n",
    "                      epochs=100, imgsz=608,patience=10, plots=True, batch=6, cache='ram', amp=False, cos_lr=True, lr0=0.001, lrf=0.001,               # MODEL PARAM\n",
    "                      hsv_s=0.75, hsv_h=0.50, hsv_v=0.60, shear=2.0, flipud=0.25, fliplr=0.25, bgr=0.25, mixup=0.10, degrees=90.0, copy_paste=0.15,    # AUGMENTATION\n",
    "                      dropout=0.20,\n",
    "                      single_cls= True, device='0', project='runs/detect/', name=\"608px-100_epoch-yolos-augment-pre-trained\")                                       # LOCATION"
   ]
  },
  {
   "cell_type": "code",
   "execution_count": null,
   "metadata": {},
   "outputs": [],
   "source": [
    "# # # RESUMING TRAINING\n",
    "# Directory containing the checkpoint files\n",
    "model = YOLO('runs/detect/608px-100_epoch-yolos-augment-pre-trained2/weights/last.pt')\n",
    "\n",
    "# Train the model\n",
    "results = model.train(data=\"validation_testing_etc/Train_Test_Split/dataset_train-test/data.yaml\", resume=True)\n"
   ]
  },
  {
   "cell_type": "code",
   "execution_count": null,
   "metadata": {},
   "outputs": [],
   "source": [
    "import os\n",
    "\n",
    "# Command to shut down the PC after the code execution\n",
    "os.system(\"shutdown /s /t 1\")"
   ]
  },
  {
   "cell_type": "markdown",
   "metadata": {},
   "source": [
    "**VALIDATION**"
   ]
  },
  {
   "cell_type": "code",
   "execution_count": null,
   "metadata": {},
   "outputs": [],
   "source": [
    "# VALIDATION\n",
    "# Load a model\n",
    "model = YOLO(\"runs/detect/train2/weights/best.pt\")\n",
    "\n",
    "metrics = model.val(plots=True, imgsz=704, batch=16, conf=0.25, iou=0.6, device=\"0\", project='runs/detect/')\n",
    "metrics.box.map  # map50-95\n",
    "metrics.box.map50  # map50\n",
    "metrics.box.map75  # map75\n",
    "metrics.box.maps  # a list contains map50-95 of each category\n",
    "\n"
   ]
  },
  {
   "cell_type": "markdown",
   "metadata": {},
   "source": [
    "**PREDICTION** "
   ]
  },
  {
   "cell_type": "code",
   "execution_count": 2,
   "metadata": {},
   "outputs": [
    {
     "name": "stdout",
     "output_type": "stream",
     "text": [
      "\n",
      "image 1/1 c:\\repos\\python\\Bacteria_counter\\validation_testing_etc\\Train_Test_Split\\dataset_train-test\\val\\images\\3650.jpg: 608x544 23 colonys, 798.1ms\n",
      "Speed: 5.0ms preprocess, 798.1ms inference, 2.0ms postprocess per image at shape (1, 3, 608, 544)\n"
     ]
    }
   ],
   "source": [
    "# PREDICTION\n",
    "from ultralytics import YOLO\n",
    "\n",
    "# Load a model\n",
    "model = YOLO(\"runs/detect/608px-100_epoch-yolos-augment-pre-trained/weights/best.pt\",)\n",
    "\n",
    "# Run batched inference on a list of images\n",
    "results = model('validation_testing_etc/Train_Test_Split/dataset_train-test/val/images/3650.jpg', conf=0.50, augment=True, stream=False, device='cpu')  # return a generator of Results objects\n",
    "\n",
    "# Process results generator\n",
    "for result in results:\n",
    "    boxes = result.boxes  # Boxes object for bounding box outputs\n",
    "    result.show()  # display to screen\n",
    "    # result.save(filename=\"result.jpg\")  # save to disk\n",
    "\n"
   ]
  },
  {
   "cell_type": "code",
   "execution_count": null,
   "metadata": {},
   "outputs": [],
   "source": [
    "import cv2\n",
    "from ultralytics import YOLO\n",
    "\n",
    "# Load a model\n",
    "model = YOLO(\"runs/detect/608px-100_epoch-yolos-augment-pre-trained/weights/best.pt\")  # your custom-trained YOLO model\n",
    "\n",
    "# Run inference on a single image\n",
    "results = model('validation_testing_etc/Train_Test_Split/dataset_train-test/val/images/13604.jpg')  \n",
    "\n",
    "# Function to draw bounding boxes without labels and with thinner lines\n",
    "def draw_boxes(image, boxes, thickness=50):\n",
    "    for box in boxes:\n",
    "        x1, y1, x2, y2 = map(int, box.xyxy[0])  # Extract coordinates\n",
    "        cv2.rectangle(image, (x1, y1), (x2, y2), (0, 255, 0), thickness) \n",
    "    return image\n",
    "\n",
    "# Function to resize image to fit the screen\n",
    "def resize_image(image, max_width=1000, max_height=1000):\n",
    "    height, width = image.shape[:2]\n",
    "    scaling_factor = min(max_width / width, max_height / height)\n",
    "    new_size = (int(width * scaling_factor), int(height * scaling_factor))\n",
    "    resized_image = cv2.resize(image, new_size, interpolation=cv2.INTER_AREA)\n",
    "    return resized_image\n",
    "\n",
    "# Process results list\n",
    "for result in results:\n",
    "    img = cv2.imread(result.path)  # Read the original image\n",
    "    img = draw_boxes(img, result.boxes, thickness=2)  # CHANGE THICKNESS HERE\n",
    "    resized_img = resize_image(img)  # Resize the image to fit the screen\n",
    "    \n",
    "    # Show the image\n",
    "    cv2.imshow('Result', resized_img)\n",
    "    cv2.waitKey(0) \n",
    "    cv2.destroyAllWindows()\n",
    "    \n",
    "    # Save the image\n",
    "    output_path = \"result.jpg\"\n",
    "    cv2.imwrite(output_path, img)  # Save the image to disk\n",
    "\n",
    "print(\"Processing complete.\")\n"
   ]
  }
 ],
 "metadata": {
  "kernelspec": {
   "display_name": ".venv",
   "language": "python",
   "name": "python3"
  },
  "language_info": {
   "codemirror_mode": {
    "name": "ipython",
    "version": 3
   },
   "file_extension": ".py",
   "mimetype": "text/x-python",
   "name": "python",
   "nbconvert_exporter": "python",
   "pygments_lexer": "ipython3",
   "version": "3.12.2"
  }
 },
 "nbformat": 4,
 "nbformat_minor": 2
}
