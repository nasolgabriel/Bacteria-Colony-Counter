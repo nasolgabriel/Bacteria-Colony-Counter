{
 "cells": [
  {
   "cell_type": "code",
   "execution_count": null,
   "metadata": {},
   "outputs": [],
   "source": [
    "import torch\n",
    "print(torch.cuda.is_available())\n",
    "print(torch.cuda.get_device_name(0))\n",
    "!yolo checks"
   ]
  },
  {
   "cell_type": "code",
   "execution_count": null,
   "metadata": {},
   "outputs": [],
   "source": [
    "import os \n",
    "from ultralytics import YOLO\n",
    "from IPython import display\n",
    "display.clear_output()"
   ]
  },
  {
   "cell_type": "markdown",
   "metadata": {},
   "source": [
    "**TRAINING**"
   ]
  },
  {
   "cell_type": "code",
   "execution_count": null,
   "metadata": {},
   "outputs": [],
   "source": [
    "# # COMMENTED BECAUSE TRAINING STARTED\n",
    "\n",
    "# model = YOLO(\"yolov8n.yaml\")  # build a new model from YAML. if \"pt\" the model is pre-trained\n",
    "\n",
    "# # Train the model\n",
    "# results = model.train(data=\"validation_testing_etc/Train_Test_Split/dataset_train-test/data.yaml\", \n",
    "#                       epochs=50, imgsz=608,patience=10, plots=True, batch=8, cache='ram', amp=False, cos_lr=True, lr0=0.001, lrf=0.001,                # MODEL PARAM\n",
    "#                       hsv_s=0.90, hsv_h=0.30, hsv_v=0.60, shear=2.0, flipud=0.25, fliplr=0.25, bgr=0.25, mixup=0.25, degrees=90.0, copy_paste=0.15,    # AUGMENTATION\n",
    "#                       dropout=0.15,\n",
    "#                       single_cls= True, device='0', project='runs/detect/', name=\"608px-50_epoch-yolon-augment\")                                       # LOCATION"
   ]
  },
  {
   "cell_type": "code",
   "execution_count": null,
   "metadata": {},
   "outputs": [],
   "source": [
    "# # # RESUMING TRAINING\n",
    "# Directory containing the checkpoint files\n",
    "model = YOLO('runs/detect/608px-50_epoch-yolon-augment/weights/last.pt')\n",
    "\n",
    "# Train the model\n",
    "results = model.train(data=\"validation_testing_etc/Train_Test_Split/dataset_train-test/data.yaml\", resume=True)"
   ]
  },
  {
   "cell_type": "code",
   "execution_count": null,
   "metadata": {},
   "outputs": [],
   "source": [
    "# 2nd Training\n",
    "# COMMENTED BECAUSE TRAINING STARTED\n",
    "\n",
    "model = YOLO(\"yolov8s.yaml\")  # build a new model from YAML. if \"pt\" the model is pre-trained\n",
    "\n",
    "# Train the model\n",
    "results = model.train(data=\"validation_testing_etc/Train_Test_Split/dataset_train-test/data.yaml\", \n",
    "                      epochs=50, imgsz=608,patience=5, plots=True, batch=4, cache='ram', amp=False, cos_lr=True, lr0=0.001, lrf=0.0005,               # MODEL PARAM\n",
    "                      hsv_s=0.90, hsv_h=0.50, hsv_v=0.60, shear=2.0, flipud=0.25, fliplr=0.25, bgr=0.25, mixup=0.25, degrees=90.0, copy_paste=0.15,    # AUGMENTATION\n",
    "                      dropout=0.15,\n",
    "                      single_cls= True, device='0', project='runs/detect/', name=\"608px-60_epoch-yolos-augment\")                                       # LOCATION"
   ]
  },
  {
   "cell_type": "code",
   "execution_count": null,
   "metadata": {},
   "outputs": [],
   "source": [
    "import os\n",
    "\n",
    "# Command to shut down the PC after the code execution\n",
    "os.system(\"shutdown /s /t 1\")"
   ]
  },
  {
   "cell_type": "markdown",
   "metadata": {},
   "source": [
    "**VALIDATION**"
   ]
  },
  {
   "cell_type": "code",
   "execution_count": null,
   "metadata": {},
   "outputs": [],
   "source": [
    "# VALIDATION\n",
    "# Load a model\n",
    "model = YOLO(\"runs/detect/train2/weights/best.pt\")\n",
    "\n",
    "metrics = model.val(plots=True, imgsz=704, batch=16, conf=0.25, iou=0.6, device=\"0\", project='runs/detect/')\n",
    "metrics.box.map  # map50-95\n",
    "metrics.box.map50  # map50\n",
    "metrics.box.map75  # map75\n",
    "metrics.box.maps  # a list contains map50-95 of each category\n",
    "\n"
   ]
  },
  {
   "cell_type": "markdown",
   "metadata": {},
   "source": [
    "**PREDICTION** "
   ]
  },
  {
   "cell_type": "code",
   "execution_count": null,
   "metadata": {},
   "outputs": [],
   "source": [
    "# PREDICTION\n",
    "from ultralytics import YOLO\n",
    "\n",
    "# Load a model\n",
    "model = YOLO(\"previous_training/detect-50_epoch-yolon-704px(with_augment)/weights/best.pt\")\n",
    "\n",
    "# Run batched inference on a list of images\n",
    "results = model('D:\\\\Downloads\\\\Petri_plates\\\\Petri_plates\\\\IMG_7812paureginosa_T8_10^-7_188.JPG', conf=0.50, augment=True, stream=False)  # return a generator of Results objects\n",
    "\n",
    "# Process results generator\n",
    "for result in results:\n",
    "    boxes = result.boxes  # Boxes object for bounding box outputs\n",
    "    result.show()  # display to screen\n",
    "    # result.save(filename=\"result.jpg\")  # save to disk\n",
    "\n"
   ]
  }
 ],
 "metadata": {
  "kernelspec": {
   "display_name": ".venv",
   "language": "python",
   "name": "python3"
  },
  "language_info": {
   "codemirror_mode": {
    "name": "ipython",
    "version": 3
   },
   "file_extension": ".py",
   "mimetype": "text/x-python",
   "name": "python",
   "nbconvert_exporter": "python",
   "pygments_lexer": "ipython3",
   "version": "3.12.2"
  }
 },
 "nbformat": 4,
 "nbformat_minor": 2
}
