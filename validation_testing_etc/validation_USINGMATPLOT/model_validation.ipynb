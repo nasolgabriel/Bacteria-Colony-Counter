{
 "cells": [
  {
   "cell_type": "code",
   "execution_count": 14,
   "metadata": {},
   "outputs": [
    {
     "name": "stdout",
     "output_type": "stream",
     "text": [
      "Column 'train/box_loss' not found in the CSV file.\n"
     ]
    }
   ],
   "source": [
    "import pandas as pd\n",
    "import matplotlib.pyplot as plt\n",
    "\n",
    "# Load the CSV file\n",
    "file_path = 'c:\\\\repos\\\\python\\\\Bacteria_counter\\\\runs\\\\detect\\\\608px-100_epoch-yolos-augment(BEST)\\\\results.csv'\n",
    "data = pd.read_csv(file_path)\n",
    "\n",
    "# Specify the column you want to plot\n",
    "column_to_plot = 'train/box_loss'  # Change this to your desired column name\n",
    "\n",
    "# Check if the column exists in the DataFrame\n",
    "if column_to_plot in data.columns:\n",
    "    # Plot the data\n",
    "    plt.figure(figsize=(10, 6))\n",
    "    plt.plot(data['epoch'], data[column_to_plot], marker='o', linestyle='-', color='b')\n",
    "    plt.xlabel('Epoch')\n",
    "    plt.ylabel(column_to_plot)\n",
    "    plt.title(f'{column_to_plot} over Epochs')\n",
    "    plt.grid(True)\n",
    "    plt.show()\n",
    "else:\n",
    "    print(f\"Column '{column_to_plot}' not found in the CSV file.\")\n"
   ]
  }
 ],
 "metadata": {
  "kernelspec": {
   "display_name": ".venv",
   "language": "python",
   "name": "python3"
  },
  "language_info": {
   "codemirror_mode": {
    "name": "ipython",
    "version": 3
   },
   "file_extension": ".py",
   "mimetype": "text/x-python",
   "name": "python",
   "nbconvert_exporter": "python",
   "pygments_lexer": "ipython3",
   "version": "3.12.2"
  }
 },
 "nbformat": 4,
 "nbformat_minor": 2
}
