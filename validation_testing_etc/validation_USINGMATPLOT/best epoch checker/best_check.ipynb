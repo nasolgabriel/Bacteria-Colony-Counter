{
 "cells": [
  {
   "cell_type": "code",
   "execution_count": 22,
   "metadata": {},
   "outputs": [],
   "source": [
    "import pandas as pd\n",
    "\n",
    "# Load the CSV file\n",
    "df_adamw = pd.read_csv(r'c:\\repos\\python\\Bacteria_counter\\validation_testing_etc\\validation_USINGMATPLOT\\best epoch checker\\OPTIMIZER-ADAMW\\results.csv')\n",
    "df_rmsprop = pd.read_csv(r'C:\\repos\\python\\Bacteria_counter\\validation_testing_etc\\validation_USINGMATPLOT\\best epoch checker\\OPTIMIZER-RMSProp\\runs\\detect\\960px-60_epoch-yolom-augment_optimizer-RMSProp\\results.csv')\n",
    "df_sgd = pd.read_csv(r'C:\\repos\\python\\Bacteria_counter\\validation_testing_etc\\validation_USINGMATPLOT\\best epoch checker\\OPTIMIZER-SGD\\runs\\detect\\960px-60_epoch-yolom-augment-sgd\\results.csv')\n"
   ]
  },
  {
   "cell_type": "code",
   "execution_count": 23,
   "metadata": {},
   "outputs": [
    {
     "name": "stdout",
     "output_type": "stream",
     "text": [
      "AdamW\n",
      "Best Epoch: 51.0\n",
      "mAP50-95(B): 0.67845\n",
      "Precision(B): 0.96888\n",
      "Recall(B): 0.94968\n",
      " \n",
      "RMSProp\n",
      "Best Epoch: 1\n",
      "mAP50-95(B): 0.14849\n",
      "Precision(B): 0.51189\n",
      "Recall(B): 0.40797\n",
      " \n",
      "SGD\n",
      "Best Epoch: 45.0\n",
      "mAP50-95(B): 0.51038\n",
      "Precision(B): 0.95303\n",
      "Recall(B): 0.90466\n"
     ]
    }
   ],
   "source": [
    "def check_best(df):\n",
    "\n",
    "    # Strip any leading/trailing whitespaces from column names\n",
    "    df.columns = df.columns.str.strip()\n",
    "\n",
    "    # best epoch based on the highest metrics/mAP50-95(B)\n",
    "    best_epoch_idx = df['metrics/mAP50-95(B)'].idxmax()\n",
    "    best_epoch_data = df.iloc[best_epoch_idx]\n",
    "\n",
    "    # Display the best\n",
    "    print(f\"Best Epoch: {best_epoch_data['epoch']}\")\n",
    "    print(f\"mAP50-95(B): {best_epoch_data['metrics/mAP50-95(B)']}\")\n",
    "    print(f\"Precision(B): {best_epoch_data['metrics/precision(B)']}\")\n",
    "    print(f\"Recall(B): {best_epoch_data['metrics/recall(B)']}\")\n",
    "\n",
    "print(\"AdamW\")\n",
    "check_best(df_adamw)\n",
    "print(\" \")\n",
    "\n",
    "print(\"RMSProp\")\n",
    "check_best(df_rmsprop)\n",
    "print(\" \")\n",
    "\n",
    "print(\"SGD\")          \n",
    "check_best(df_sgd)"
   ]
  }
 ],
 "metadata": {
  "kernelspec": {
   "display_name": ".venv",
   "language": "python",
   "name": "python3"
  },
  "language_info": {
   "codemirror_mode": {
    "name": "ipython",
    "version": 3
   },
   "file_extension": ".py",
   "mimetype": "text/x-python",
   "name": "python",
   "nbconvert_exporter": "python",
   "pygments_lexer": "ipython3",
   "version": "3.12.5"
  }
 },
 "nbformat": 4,
 "nbformat_minor": 2
}
