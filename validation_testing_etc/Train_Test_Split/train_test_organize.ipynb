{
 "cells": [
  {
   "cell_type": "code",
   "execution_count": null,
   "metadata": {},
   "outputs": [],
   "source": [
    "import splitfolders\n",
    "import os\n",
    "import shutil\n",
    "import yaml"
   ]
  },
  {
   "cell_type": "code",
   "execution_count": null,
   "metadata": {},
   "outputs": [],
   "source": [
    "def split_dataset(images_folder, labels_folder, output_folder, ratio=(.6, .2, .2)):\n",
    "    # Create temporary merged folder structure\n",
    "    temp_folder = \"temp_dataset\"\n",
    "    os.makedirs(temp_folder, exist_ok=True)\n",
    "    os.makedirs(os.path.join(temp_folder, 'images'), exist_ok=True)\n",
    "    os.makedirs(os.path.join(temp_folder, 'labels'), exist_ok=True)\n",
    "\n",
    "    for img_file in os.listdir(images_folder):\n",
    "        img_path = os.path.join(images_folder, img_file)\n",
    "        label_path = os.path.join(labels_folder, img_file.replace('.jpg', '.txt'))\n",
    "\n",
    "        if os.path.exists(label_path):\n",
    "            shutil.copy(img_path, os.path.join(temp_folder, 'images', img_file))\n",
    "            shutil.copy(label_path, os.path.join(temp_folder, 'labels', img_file.replace('.jpg', '.txt')))\n",
    "\n",
    "    # Split the dataset\n",
    "    splitfolders.ratio(temp_folder, output=output_folder, seed=1337, ratio=ratio, group_prefix=None)\n",
    "\n",
    "    # Move the images and labels to their respective folders\n",
    "    for split in ['train', 'val', 'test']:\n",
    "        split_images_folder = os.path.join(output_folder, split, 'images')\n",
    "        split_labels_folder = os.path.join(output_folder, split, 'labels')\n",
    "\n",
    "        os.makedirs(split_images_folder, exist_ok=True)\n",
    "        os.makedirs(split_labels_folder, exist_ok=True)\n",
    "\n",
    "        for file in os.listdir(os.path.join(output_folder, split)):\n",
    "            if file.endswith('.jpg'):\n",
    "                shutil.move(os.path.join(output_folder, split, file), split_images_folder)\n",
    "            elif file.endswith('.txt'):\n",
    "                shutil.move(os.path.join(output_folder, split, file), split_labels_folder)\n",
    "\n",
    "    # Remove the temporary folder\n",
    "    shutil.rmtree(temp_folder)\n",
    "\n",
    "# Define your dataset folders\n",
    "images_folder = 'c:\\\\repos\\\\python\\\\Bacteria_counter\\\\validation_testing_etc\\\\augmentation\\\\augmented_images'\n",
    "labels_folder = 'c:\\\\repos\\\\python\\\\Bacteria_counter\\\\validation_testing_etc\\\\augmentation\\\\augmented_labels'\n",
    "output_folder = 'c:\\\\repos\\\\python\\\\Bacteria_counter\\\\validation_testing_etc\\\\Train_Test_Split\\\\dataset_train-test\\\\COF'\n",
    "\n",
    "split_dataset(images_folder, labels_folder, output_folder)"
   ]
  },
  {
   "cell_type": "code",
   "execution_count": null,
   "metadata": {},
   "outputs": [],
   "source": [
    "import os\n",
    "import yaml\n",
    "\n",
    "def create_yaml_file(output_folder, class_names):\n",
    "    # Create a dictionary for class names with indices\n",
    "    names_dict = {i: name for i, name in enumerate(class_names)}\n",
    "    \n",
    "    data = {\n",
    "        'train': os.path.join(output_folder, 'train/images').replace(\"\\\\\", \"/\"),\n",
    "        'val': os.path.join(output_folder, 'val/images').replace(\"\\\\\", \"/\"),\n",
    "        'test': os.path.join(output_folder, 'test/images').replace(\"\\\\\", \"/\"),\n",
    "        'nc': len(class_names),\n",
    "        'names': names_dict\n",
    "    }\n",
    "\n",
    "    with open(os.path.join(output_folder, 'data.yaml'), 'w') as yaml_file:\n",
    "        yaml.dump(data, yaml_file, default_flow_style=False)\n",
    "\n",
    "# Define the output folder where the split dataset is saved\n",
    "output_folder = 'validation_testing_etc/Train_Test_Split/dataset_train-test/COF'\n",
    "\n",
    "# Define the class names (adjust based on your dataset)\n",
    "class_names = ['colony']\n",
    "\n",
    "create_yaml_file(output_folder, class_names)\n"
   ]
  }
 ],
 "metadata": {
  "kernelspec": {
   "display_name": ".venv",
   "language": "python",
   "name": "python3"
  },
  "language_info": {
   "codemirror_mode": {
    "name": "ipython",
    "version": 3
   },
   "file_extension": ".py",
   "mimetype": "text/x-python",
   "name": "python",
   "nbconvert_exporter": "python",
   "pygments_lexer": "ipython3",
   "version": "3.12.5"
  }
 },
 "nbformat": 4,
 "nbformat_minor": 2
}
