{
 "cells": [
  {
   "cell_type": "code",
   "execution_count": 14,
   "metadata": {},
   "outputs": [],
   "source": [
    "import splitfolders\n",
    "import os\n",
    "import shutil\n",
    "import yaml"
   ]
  },
  {
   "cell_type": "code",
   "execution_count": 15,
   "metadata": {},
   "outputs": [
    {
     "name": "stderr",
     "output_type": "stream",
     "text": [
      "Copying files: 156 files [00:00, 649.53 files/s]\n"
     ]
    }
   ],
   "source": [
    "def split_dataset(images_folder, labels_folder, output_folder, ratio=(.6, .2, .2)):\n",
    "    # Create temporary merged folder structure\n",
    "    temp_folder = \"temp_dataset\"\n",
    "    os.makedirs(temp_folder, exist_ok=True)\n",
    "    os.makedirs(os.path.join(temp_folder, 'images'), exist_ok=True)\n",
    "    os.makedirs(os.path.join(temp_folder, 'labels'), exist_ok=True)\n",
    "\n",
    "    for img_file in os.listdir(images_folder):\n",
    "        img_path = os.path.join(images_folder, img_file)\n",
    "        label_path = os.path.join(labels_folder, img_file.replace('.jpg', '.txt'))\n",
    "\n",
    "        if os.path.exists(label_path):\n",
    "            shutil.copy(img_path, os.path.join(temp_folder, 'images', img_file))\n",
    "            shutil.copy(label_path, os.path.join(temp_folder, 'labels', img_file.replace('.jpg', '.txt')))\n",
    "\n",
    "    # Split the dataset\n",
    "    splitfolders.ratio(temp_folder, output=output_folder, seed=1337, ratio=ratio, group_prefix=None)\n",
    "\n",
    "    # Move the images and labels to their respective folders\n",
    "    for split in ['train', 'val', 'test']:\n",
    "        split_images_folder = os.path.join(output_folder, split, 'images')\n",
    "        split_labels_folder = os.path.join(output_folder, split, 'labels')\n",
    "\n",
    "        os.makedirs(split_images_folder, exist_ok=True)\n",
    "        os.makedirs(split_labels_folder, exist_ok=True)\n",
    "\n",
    "        for file in os.listdir(os.path.join(output_folder, split)):\n",
    "            if file.endswith('.jpg'):\n",
    "                shutil.move(os.path.join(output_folder, split, file), split_images_folder)\n",
    "            elif file.endswith('.txt'):\n",
    "                shutil.move(os.path.join(output_folder, split, file), split_labels_folder)\n",
    "\n",
    "    # Remove the temporary folder\n",
    "    shutil.rmtree(temp_folder)\n",
    "\n",
    "# Define your dataset folders\n",
    "images_folder = 'c:\\\\repos\\\\python\\\\Bacteria_counter\\\\validation_testing_etc\\\\augmentation\\\\augmented_images'\n",
    "labels_folder = 'c:\\\\repos\\\\python\\\\Bacteria_counter\\\\validation_testing_etc\\\\augmentation\\\\augmented_labels'\n",
    "output_folder = 'c:\\\\repos\\\\python\\\\Bacteria_counter\\\\validation_testing_etc\\\\Train_Test_Split\\\\dataset_train-test\\\\COF'\n",
    "\n",
    "split_dataset(images_folder, labels_folder, output_folder)"
   ]
  },
  {
   "cell_type": "code",
   "execution_count": 16,
   "metadata": {},
   "outputs": [
    {
     "ename": "FileNotFoundError",
     "evalue": "[Errno 2] No such file or directory: 'validation_testing_etc/Train_Test_Split/dataset_train-test/COF\\\\data.yaml'",
     "output_type": "error",
     "traceback": [
      "\u001b[1;31m---------------------------------------------------------------------------\u001b[0m",
      "\u001b[1;31mFileNotFoundError\u001b[0m                         Traceback (most recent call last)",
      "Cell \u001b[1;32mIn[16], line 25\u001b[0m\n\u001b[0;32m     22\u001b[0m \u001b[38;5;66;03m# Define the class names (adjust based on your dataset)\u001b[39;00m\n\u001b[0;32m     23\u001b[0m class_names \u001b[38;5;241m=\u001b[39m [\u001b[38;5;124m'\u001b[39m\u001b[38;5;124mcolony\u001b[39m\u001b[38;5;124m'\u001b[39m]\n\u001b[1;32m---> 25\u001b[0m \u001b[43mcreate_yaml_file\u001b[49m\u001b[43m(\u001b[49m\u001b[43moutput_folder\u001b[49m\u001b[43m,\u001b[49m\u001b[43m \u001b[49m\u001b[43mclass_names\u001b[49m\u001b[43m)\u001b[49m\n",
      "Cell \u001b[1;32mIn[16], line 16\u001b[0m, in \u001b[0;36mcreate_yaml_file\u001b[1;34m(output_folder, class_names)\u001b[0m\n\u001b[0;32m      6\u001b[0m names_dict \u001b[38;5;241m=\u001b[39m {i: name \u001b[38;5;28;01mfor\u001b[39;00m i, name \u001b[38;5;129;01min\u001b[39;00m \u001b[38;5;28menumerate\u001b[39m(class_names)}\n\u001b[0;32m      8\u001b[0m data \u001b[38;5;241m=\u001b[39m {\n\u001b[0;32m      9\u001b[0m     \u001b[38;5;124m'\u001b[39m\u001b[38;5;124mtrain\u001b[39m\u001b[38;5;124m'\u001b[39m: os\u001b[38;5;241m.\u001b[39mpath\u001b[38;5;241m.\u001b[39mjoin(output_folder, \u001b[38;5;124m'\u001b[39m\u001b[38;5;124mtrain/images\u001b[39m\u001b[38;5;124m'\u001b[39m)\u001b[38;5;241m.\u001b[39mreplace(\u001b[38;5;124m\"\u001b[39m\u001b[38;5;130;01m\\\\\u001b[39;00m\u001b[38;5;124m\"\u001b[39m, \u001b[38;5;124m\"\u001b[39m\u001b[38;5;124m/\u001b[39m\u001b[38;5;124m\"\u001b[39m),\n\u001b[0;32m     10\u001b[0m     \u001b[38;5;124m'\u001b[39m\u001b[38;5;124mval\u001b[39m\u001b[38;5;124m'\u001b[39m: os\u001b[38;5;241m.\u001b[39mpath\u001b[38;5;241m.\u001b[39mjoin(output_folder, \u001b[38;5;124m'\u001b[39m\u001b[38;5;124mval/images\u001b[39m\u001b[38;5;124m'\u001b[39m)\u001b[38;5;241m.\u001b[39mreplace(\u001b[38;5;124m\"\u001b[39m\u001b[38;5;130;01m\\\\\u001b[39;00m\u001b[38;5;124m\"\u001b[39m, \u001b[38;5;124m\"\u001b[39m\u001b[38;5;124m/\u001b[39m\u001b[38;5;124m\"\u001b[39m),\n\u001b[1;32m   (...)\u001b[0m\n\u001b[0;32m     13\u001b[0m     \u001b[38;5;124m'\u001b[39m\u001b[38;5;124mnames\u001b[39m\u001b[38;5;124m'\u001b[39m: names_dict\n\u001b[0;32m     14\u001b[0m }\n\u001b[1;32m---> 16\u001b[0m \u001b[38;5;28;01mwith\u001b[39;00m \u001b[38;5;28;43mopen\u001b[39;49m\u001b[43m(\u001b[49m\u001b[43mos\u001b[49m\u001b[38;5;241;43m.\u001b[39;49m\u001b[43mpath\u001b[49m\u001b[38;5;241;43m.\u001b[39;49m\u001b[43mjoin\u001b[49m\u001b[43m(\u001b[49m\u001b[43moutput_folder\u001b[49m\u001b[43m,\u001b[49m\u001b[43m \u001b[49m\u001b[38;5;124;43m'\u001b[39;49m\u001b[38;5;124;43mdata.yaml\u001b[39;49m\u001b[38;5;124;43m'\u001b[39;49m\u001b[43m)\u001b[49m\u001b[43m,\u001b[49m\u001b[43m \u001b[49m\u001b[38;5;124;43m'\u001b[39;49m\u001b[38;5;124;43mw\u001b[39;49m\u001b[38;5;124;43m'\u001b[39;49m\u001b[43m)\u001b[49m \u001b[38;5;28;01mas\u001b[39;00m yaml_file:\n\u001b[0;32m     17\u001b[0m     yaml\u001b[38;5;241m.\u001b[39mdump(data, yaml_file, default_flow_style\u001b[38;5;241m=\u001b[39m\u001b[38;5;28;01mFalse\u001b[39;00m)\n",
      "File \u001b[1;32mc:\\repos\\python\\Bacteria_counter\\.venv\\Lib\\site-packages\\IPython\\core\\interactiveshell.py:324\u001b[0m, in \u001b[0;36m_modified_open\u001b[1;34m(file, *args, **kwargs)\u001b[0m\n\u001b[0;32m    317\u001b[0m \u001b[38;5;28;01mif\u001b[39;00m file \u001b[38;5;129;01min\u001b[39;00m {\u001b[38;5;241m0\u001b[39m, \u001b[38;5;241m1\u001b[39m, \u001b[38;5;241m2\u001b[39m}:\n\u001b[0;32m    318\u001b[0m     \u001b[38;5;28;01mraise\u001b[39;00m \u001b[38;5;167;01mValueError\u001b[39;00m(\n\u001b[0;32m    319\u001b[0m         \u001b[38;5;124mf\u001b[39m\u001b[38;5;124m\"\u001b[39m\u001b[38;5;124mIPython won\u001b[39m\u001b[38;5;124m'\u001b[39m\u001b[38;5;124mt let you open fd=\u001b[39m\u001b[38;5;132;01m{\u001b[39;00mfile\u001b[38;5;132;01m}\u001b[39;00m\u001b[38;5;124m by default \u001b[39m\u001b[38;5;124m\"\u001b[39m\n\u001b[0;32m    320\u001b[0m         \u001b[38;5;124m\"\u001b[39m\u001b[38;5;124mas it is likely to crash IPython. If you know what you are doing, \u001b[39m\u001b[38;5;124m\"\u001b[39m\n\u001b[0;32m    321\u001b[0m         \u001b[38;5;124m\"\u001b[39m\u001b[38;5;124myou can use builtins\u001b[39m\u001b[38;5;124m'\u001b[39m\u001b[38;5;124m open.\u001b[39m\u001b[38;5;124m\"\u001b[39m\n\u001b[0;32m    322\u001b[0m     )\n\u001b[1;32m--> 324\u001b[0m \u001b[38;5;28;01mreturn\u001b[39;00m \u001b[43mio_open\u001b[49m\u001b[43m(\u001b[49m\u001b[43mfile\u001b[49m\u001b[43m,\u001b[49m\u001b[43m \u001b[49m\u001b[38;5;241;43m*\u001b[39;49m\u001b[43margs\u001b[49m\u001b[43m,\u001b[49m\u001b[43m \u001b[49m\u001b[38;5;241;43m*\u001b[39;49m\u001b[38;5;241;43m*\u001b[39;49m\u001b[43mkwargs\u001b[49m\u001b[43m)\u001b[49m\n",
      "\u001b[1;31mFileNotFoundError\u001b[0m: [Errno 2] No such file or directory: 'validation_testing_etc/Train_Test_Split/dataset_train-test/COF\\\\data.yaml'"
     ]
    }
   ],
   "source": [
    "import os\n",
    "import yaml\n",
    "\n",
    "def create_yaml_file(output_folder, class_names):\n",
    "    # Create a dictionary for class names with indices\n",
    "    names_dict = {i: name for i, name in enumerate(class_names)}\n",
    "    \n",
    "    data = {\n",
    "        'train': os.path.join(output_folder, 'train/images').replace(\"\\\\\", \"/\"),\n",
    "        'val': os.path.join(output_folder, 'val/images').replace(\"\\\\\", \"/\"),\n",
    "        'test': os.path.join(output_folder, 'test/images').replace(\"\\\\\", \"/\"),\n",
    "        'nc': len(class_names),\n",
    "        'names': names_dict\n",
    "    }\n",
    "\n",
    "    with open(os.path.join(output_folder, 'data.yaml'), 'w') as yaml_file:\n",
    "        yaml.dump(data, yaml_file, default_flow_style=False)\n",
    "\n",
    "# Define the output folder where the split dataset is saved\n",
    "output_folder = 'validation_testing_etc/Train_Test_Split/dataset_train-test/COF'\n",
    "\n",
    "# Define the class names (adjust based on your dataset)\n",
    "class_names = ['colony']\n",
    "\n",
    "create_yaml_file(output_folder, class_names)\n"
   ]
  }
 ],
 "metadata": {
  "kernelspec": {
   "display_name": ".venv",
   "language": "python",
   "name": "python3"
  },
  "language_info": {
   "codemirror_mode": {
    "name": "ipython",
    "version": 3
   },
   "file_extension": ".py",
   "mimetype": "text/x-python",
   "name": "python",
   "nbconvert_exporter": "python",
   "pygments_lexer": "ipython3",
   "version": "3.12.2"
  }
 },
 "nbformat": 4,
 "nbformat_minor": 2
}
