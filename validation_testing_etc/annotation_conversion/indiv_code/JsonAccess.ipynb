{
 "cells": [
  {
   "cell_type": "code",
   "execution_count": 1,
   "metadata": {},
   "outputs": [],
   "source": [
    "import json\n",
    "import os\n",
    "from PIL import Image"
   ]
  },
  {
   "cell_type": "code",
   "execution_count": 2,
   "metadata": {},
   "outputs": [],
   "source": [
    "# image dimension extraction\n",
    "class GetDimensions:\n",
    "    def __init__(self, image_path):\n",
    "        self.image_path = image_path\n",
    "        self.width, self.height = self.get_dimensions()\n",
    "\n",
    "    def get_dimensions(self):\n",
    "        with Image.open(self.image_path) as img:\n",
    "            width, height = img.size\n",
    "        return width, height"
   ]
  },
  {
   "cell_type": "code",
   "execution_count": 3,
   "metadata": {},
   "outputs": [],
   "source": [
    "def convert_to_yolov8(json_data, image_dimensions):\n",
    "    image_width, image_height = image_dimensions\n",
    "    annotations = []\n",
    "\n",
    "    for label in json_data['labels']:\n",
    "        class_id = 0  # Assuming 'S.aureus' corresponds to class 0 in YOLO format\n",
    "        x_center = (label['x'] + label['width'] / 2) / image_width\n",
    "        y_center = (label['y'] + label['height'] / 2) / image_height\n",
    "        width = label['width'] / image_width\n",
    "        height = label['height'] / image_height\n",
    "        \n",
    "        annotations.append(f\"{class_id} {x_center} {y_center} {width} {height}\")\n",
    "\n",
    "    return annotations"
   ]
  },
  {
   "cell_type": "code",
   "execution_count": 4,
   "metadata": {},
   "outputs": [],
   "source": [
    "def save_annotations(annotations, output_path):\n",
    "    with open(output_path, 'w') as file:\n",
    "        file.write(\"\\n\".join(annotations))"
   ]
  },
  {
   "cell_type": "code",
   "execution_count": 5,
   "metadata": {},
   "outputs": [],
   "source": [
    "json_file_path = 'D:\\\\GitHub_repositories\\\\pythonProject\\\\Bacteria_counter\\\\AGAR_dataset\\\\AGAR_dataset\\\\dataset\\\\314.json'\n",
    "image_file_path = 'D:\\\\GitHub_repositories\\\\pythonProject\\\\Bacteria_counter\\\\AGAR_dataset\\\\AGAR_dataset\\\\dataset\\\\314.jpg'\n",
    "\n",
    "# Example usage:\n",
    "json_path = 'D:\\\\GitHub_repositories\\\\pythonProject\\\\Bacteria_counter\\\\AGAR_dataset\\\\AGAR_dataset\\\\dataset\\\\1.json'\n",
    "image_path = 'D:\\\\GitHub_repositories\\\\pythonProject\\\\Bacteria_counter\\\\AGAR_dataset\\\\AGAR_dataset\\\\dataset\\\\314.jpg'\n",
    "output_path = 'D:\\\\GitHub_repositories\\\\pythonProject\\\\Bacteria_counter\\\\validation_testing_etc\\\\annotation_conversion\\\\output2.txt'"
   ]
  },
  {
   "cell_type": "code",
   "execution_count": 6,
   "metadata": {},
   "outputs": [
    {
     "name": "stdout",
     "output_type": "stream",
     "text": [
      "YOLOv8 annotations saved to D:\\GitHub_repositories\\pythonProject\\Bacteria_counter\\validation_testing_etc\\annotation_conversion\\output2.txt\n"
     ]
    }
   ],
   "source": [
    "# Load JSON data\n",
    "with open(json_path, 'r') as file:\n",
    "    json_data = json.load(file)\n",
    "\n",
    "# Get image dimensions\n",
    "dimensions = GetDimensions(image_path)\n",
    "image_width, image_height = dimensions.width, dimensions.height\n",
    "\n",
    "# Convert JSON to YOLOv8 format\n",
    "annotations = convert_to_yolov8(json_data, (image_width, image_height))\n",
    "\n",
    "# Save the YOLOv8 annotations to a file\n",
    "save_annotations(annotations, output_path)\n",
    "\n",
    "print(f\"YOLOv8 annotations saved to {output_path}\")"
   ]
  }
 ],
 "metadata": {
  "kernelspec": {
   "display_name": ".venv",
   "language": "python",
   "name": "python3"
  },
  "language_info": {
   "codemirror_mode": {
    "name": "ipython",
    "version": 3
   },
   "file_extension": ".py",
   "mimetype": "text/x-python",
   "name": "python",
   "nbconvert_exporter": "python",
   "pygments_lexer": "ipython3",
   "version": "3.12.2"
  }
 },
 "nbformat": 4,
 "nbformat_minor": 2
}
